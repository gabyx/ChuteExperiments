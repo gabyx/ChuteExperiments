{
 "cells": [
  {
   "cell_type": "code",
   "execution_count": 8,
   "metadata": {
    "collapsed": false
   },
   "outputs": [
    {
     "name": "stdout",
     "output_type": "stream",
     "text": [
      "16\n"
     ]
    }
   ],
   "source": [
    "def foo(a = 3.0):\n",
    "    return a*a;\n",
    "#enddef\n",
    "\n",
    "g = foo;\n",
    "\n",
    "print(foo(4))\n"
   ]
  },
  {
   "cell_type": "markdown",
   "metadata": {},
   "source": [
    "**Test1: Bild laden**"
   ]
  },
  {
   "cell_type": "code",
   "execution_count": null,
   "metadata": {
    "collapsed": true
   },
   "outputs": [],
   "source": []
  },
  {
   "cell_type": "code",
   "execution_count": 5,
   "metadata": {
    "collapsed": false
   },
   "outputs": [],
   "source": [
    "\n",
    "import numpy as np;\n",
    "import math as mt;\n",
    "import matplotlib as mpl;\n",
    "import matplotlib.pyplot as plt;\n",
    "\n",
    "a = np.array( [ [1,3,4], [3,4,6] ] );\n",
    "b = np.array( [1,2,3] );\n",
    "\n",
    "l = np.linspace(0,100,300);\n",
    "\n",
    "f = np.sin(l)\n",
    "\n",
    "fig = plt.figure(figsize=(15,10));\n",
    "ax0 = fig.add_subplot(111)\n",
    "\n",
    "figDic = { 'test1Fig' : fig };\n",
    "\n",
    "ax0.plot(l,f)\n",
    "plt.show()"
   ]
  },
  {
   "cell_type": "code",
   "execution_count": 12,
   "metadata": {
    "collapsed": false
   },
   "outputs": [
    {
     "data": {
      "text/plain": [
       "numpy.float64"
      ]
     },
     "execution_count": 12,
     "metadata": {},
     "output_type": "execute_result"
    }
   ],
   "source": [
    "np.float64"
   ]
  },
  {
   "cell_type": "code",
   "execution_count": 28,
   "metadata": {
    "collapsed": false
   },
   "outputs": [
    {
     "name": "stdout",
     "output_type": "stream",
     "text": [
      "id:  4565985680 4565983360\n",
      " gaga:  [   0.   25.   50.   75.  100.] [   0.   25.   50.   75.  100.]\n",
      "id u,v:  4565984800 4566105664\n",
      "output:\n"
     ]
    }
   ],
   "source": [
    "def computeF(arg1,arg2):\n",
    "    arg1[-1] = 33;\n",
    "    arg2[0] = -10;\n",
    "    return (arg1, arg2)\n",
    "#enddef\n",
    "\n",
    "gaga = np.linspace(0,100,5);\n",
    "gaga2 = np.linspace(0,100,5);\n",
    "print(\"id: \", id(gaga),id(gaga2))\n",
    "\n",
    "print(\" gaga: \", gaga, gaga2 );\n",
    "\n",
    "u,v = computeF(gaga, gaga2);\n",
    "print(\"id u,v: \", id(u),id(v))\n",
    "print( 'output:',  )\n",
    "\n"
   ]
  },
  {
   "cell_type": "code",
   "execution_count": 49,
   "metadata": {
    "collapsed": false
   },
   "outputs": [
    {
     "name": "stdout",
     "output_type": "stream",
     "text": [
      "[0]\n",
      "[0, 1]\n",
      "[0, 1, 2]\n",
      "[0, 1, 2, 3]\n",
      "[0, 1, 2, 3, 4]\n",
      "[0, 1, 2, 3, 4, 5]\n",
      "[0, 1, 2, 3, 4, 5, 6]\n",
      "[0, 1, 2, 3, 4, 5, 6, 7]\n",
      "[0, 1, 2, 3, 4, 5, 6, 7, 8]\n",
      "[0, 1, 2, 3, 4, 5, 6, 7, 8, 9]\n",
      "val: <class 'bool'>\n"
     ]
    }
   ],
   "source": [
    "a = [];\n",
    "for i in range(0,10):\n",
    "    a.append(i);\n",
    "    print(a)\n",
    "\n",
    "b = [ i*2 for i in range(0,10) ] ;\n",
    "    \n",
    "c= {\"velocity\" : a , \"position\": b}\n",
    "c['asd'] = True\n",
    "print(\"val:\",type(c['asd']))\n",
    "\n",
    "enable = False;\n",
    "\n",
    "for i in range(0,10):\n",
    "    if (i==1 or i==4) and enable == True:\n",
    "        print(i);\n",
    "    \n"
   ]
  },
  {
   "cell_type": "code",
   "execution_count": 52,
   "metadata": {
    "collapsed": false
   },
   "outputs": [],
   "source": [
    "def meineFunc(counter,fileName, flag = True):\n",
    "    if flag:\n",
    "        print(\"fileName: \", fileName, \" counter: \", counter)\n",
    "    \n",
    "    print(\"ende\");"
   ]
  },
  {
   "cell_type": "code",
   "execution_count": 58,
   "metadata": {
    "collapsed": false
   },
   "outputs": [
    {
     "name": "stdout",
     "output_type": "stream",
     "text": [
      "ende\n"
     ]
    }
   ],
   "source": [
    "meineFunc(4, fileName = False, flag = \"\")"
   ]
  },
  {
   "cell_type": "code",
   "execution_count": 68,
   "metadata": {
    "collapsed": false
   },
   "outputs": [],
   "source": [
    "class Banane:\n",
    "    #Constructor Banane\n",
    "    def __init__(self, farbeIn):\n",
    "        self.farbe = farbeIn;\n",
    "        \n",
    "    def printFarbe(self):\n",
    "        print(self.farbe);\n",
    "        \n",
    "        \n",
    "    def __add__(self,zahl):\n",
    "        self.farbe += str(zahl);\n",
    "        "
   ]
  },
  {
   "cell_type": "code",
   "execution_count": 73,
   "metadata": {
    "collapsed": false
   },
   "outputs": [
    {
     "name": "stdout",
     "output_type": "stream",
     "text": [
      "grün\n",
      "gelb\n",
      "<class 'NoneType'>\n"
     ]
    },
    {
     "ename": "AttributeError",
     "evalue": "'NoneType' object has no attribute 'printFarbe'",
     "output_type": "error",
     "traceback": [
      "\u001b[0;31m---------------------------------------------------------------------------\u001b[0m",
      "\u001b[0;31mAttributeError\u001b[0m                            Traceback (most recent call last)",
      "\u001b[0;32m<ipython-input-73-196f594dbe8b>\u001b[0m in \u001b[0;36m<module>\u001b[0;34m()\u001b[0m\n\u001b[1;32m      7\u001b[0m \u001b[0mban\u001b[0m \u001b[0;34m+=\u001b[0m \u001b[0;34m\"asdasd\"\u001b[0m\u001b[0;34m;\u001b[0m\u001b[0;34m\u001b[0m\u001b[0m\n\u001b[1;32m      8\u001b[0m \u001b[0mprint\u001b[0m\u001b[0;34m(\u001b[0m\u001b[0mtype\u001b[0m\u001b[0;34m(\u001b[0m\u001b[0mban\u001b[0m\u001b[0;34m)\u001b[0m\u001b[0;34m)\u001b[0m\u001b[0;34m\u001b[0m\u001b[0m\n\u001b[0;32m----> 9\u001b[0;31m \u001b[0mban\u001b[0m\u001b[0;34m.\u001b[0m\u001b[0mprintFarbe\u001b[0m\u001b[0;34m(\u001b[0m\u001b[0;34m)\u001b[0m\u001b[0;34m;\u001b[0m\u001b[0;34m\u001b[0m\u001b[0m\n\u001b[0m",
      "\u001b[0;31mAttributeError\u001b[0m: 'NoneType' object has no attribute 'printFarbe'"
     ]
    }
   ],
   "source": [
    "ban = Banane(\"grün\");\n",
    "ban.printFarbe();\n",
    "\n",
    "ban = Banane(\"gelb\");\n",
    "ban.printFarbe();\n",
    "\n",
    "ban =  ban + \"asdasd\";\n",
    "print(type(ban))\n",
    "ban.printFarbe();"
   ]
  },
  {
   "cell_type": "code",
   "execution_count": null,
   "metadata": {
    "collapsed": true
   },
   "outputs": [],
   "source": []
  }
 ],
 "metadata": {
  "kernelspec": {
   "display_name": "Python 3",
   "language": "python",
   "name": "python3"
  },
  "language_info": {
   "codemirror_mode": {
    "name": "ipython",
    "version": 3
   },
   "file_extension": ".py",
   "mimetype": "text/x-python",
   "name": "python",
   "nbconvert_exporter": "python",
   "pygments_lexer": "ipython3",
   "version": "3.4.3"
  }
 },
 "nbformat": 4,
 "nbformat_minor": 0
}
