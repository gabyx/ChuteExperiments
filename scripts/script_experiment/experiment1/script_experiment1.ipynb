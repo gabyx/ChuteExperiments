{
 "cells": [
  {
   "cell_type": "code",
   "execution_count": 1,
   "metadata": {
    "collapsed": false
   },
   "outputs": [
    {
     "name": "stderr",
     "output_type": "stream",
     "text": [
      "/opt/python3.4env/lib/python3.4/site-packages/skimage/filter/__init__.py:6: skimage_deprecation: The `skimage.filter` module has been renamed to `skimage.filters`.  This placeholder module will be removed in v0.13.\n",
      "  warn(skimage_deprecation('The `skimage.filter` module has been renamed '\n"
     ]
    }
   ],
   "source": [
    "import sys,os\n",
    "import matplotlib as mpl\n",
    "import matplotlib.pyplot as plt\n",
    "import matplotlib.image as mpimg\n",
    "import numpy as np\n",
    "import matplotlib.cm as cm\n",
    "import matplotlib.colors as colors\n",
    "import matplotlib.cm as cmx\n",
    "\n",
    "import openpiv.tools\n",
    "import openpiv.process\n",
    "import openpiv.scaling\n",
    "\n",
    "from skimage import img_as_int\n",
    "from os import walk\n",
    "\n",
    "#this works apparently only for savefig stuff\n",
    "mpl.rcParams['figure.figsize']=(16.0,10.0)    #(6.0,4.0)\n",
    "mpl.rcParams['font.size']=12            #10 \n",
    "mpl.rcParams['savefig.dpi']=400             #72 \n",
    "mpl.rcParams['figure.subplot.bottom']=.1    #.125\n",
    "\n",
    "mpl.rcParams['legend.numpoints'] = 1\n",
    "\n",
    "plt.rc('font', family='serif')\n",
    "plt.rc('text', usetex=True)\n",
    "\n",
    "#inline Shit\n",
    "#%matplotlib inline\n",
    "%config InlineBackend.figure_format='svg'\n",
    "%config InlineBackend.rc = {'figure.facecolor': 'white', 'figure.subplot.bottom': 0.125, 'figure.edgecolor': 'white', 'savefig.dpi': 300, 'figure.figsize': (12.0, 8.0), 'font.size': 10}\n",
    "\n",
    "#GUi shit\n",
    "#matplotlib tk\n",
    "\n",
    "mpl.get_configdir()\n",
    "\n",
    "%load_ext autoreload\n",
    "%autoreload 2\n"
   ]
  },
  {
   "cell_type": "code",
   "execution_count": 30,
   "metadata": {
    "collapsed": false
   },
   "outputs": [],
   "source": [
    "# Alle file paths der bilder in eine liste lesen : files = ['../data/exp1/f1.jpg', ..., '../data/exp1/f10.jpg' ]\n",
    "import glob\n",
    "import re\n",
    "\n",
    "fileNumberRegex = re.compile(\".*?_(\\d*)\\.\")\n",
    "pathImages = '../../../data/experiment1/'\n",
    "\n",
    "files = glob.glob(pathImages+'*.jpg')\n",
    "fileNumbers = [ int(fileNumberRegex.match(ff).group(1)) for ff in files ];\n",
    "images = dict(zip(fileNumbers,files))\n",
    "\n",
    "imagesRange = (min(images.keys()),max(images.keys()))\n",
    "\n",
    "processingRange = (781,782);\n",
    "\n",
    "if( min(processingRange) < min(imagesRange) ): processingRange[0] = imagesRange[0];\n",
    "if( max(processingRange) > max(imagesRange) ): processingRange[1] = imagesRange[1];\n",
    "\n",
    "imagesRange = range(processingRange[0], processingRange[1]);\n"
   ]
  },
  {
   "cell_type": "code",
   "execution_count": 33,
   "metadata": {
    "collapsed": false
   },
   "outputs": [],
   "source": [
    "\n",
    "\n",
    "def saveResults(outputPath, filename, frame_a, frame_b, x,y,u,v,u2,v2,u3,v3):\n",
    "    plt.close(\"all\")\n",
    "    # Plotten Figure\n",
    "    fig = plt.figure(figsize=(15,8));\n",
    "\n",
    "    ax0 = fig.add_subplot(131)\n",
    "    ax0.set_autoscale_on(False)\n",
    "    ax0.set_title(\"PIV Extended Search Area\" )\n",
    "\n",
    "\n",
    "    ax0.matshow( frame_a, cmap=cm.Greys_r );\n",
    "    ax0.quiver( x, y, u, v , color='r')\n",
    "\n",
    "    ax1 = fig.add_subplot(132, sharex=ax0, sharey=ax0)\n",
    "    ax1.set_autoscale_on(False)\n",
    "    ax1.set_title(\"Outlier Rejected\" )\n",
    "\n",
    "    ax1.matshow( frame_a, cmap=cm.Greys_r );\n",
    "    ax1.quiver( x, y, u2, v2 , color='r')\n",
    "\n",
    "    ax3 = fig.add_subplot(133, sharex=ax0, sharey=ax0)\n",
    "    ax3.set_autoscale_on(False)\n",
    "    ax3.set_title(\"Replaced Outlier\" )\n",
    "\n",
    "    ax3.matshow( frame_a, cmap=cm.Greys_r );\n",
    "    ax3.quiver( x, y, u3, v3 , color='r')\n",
    "\n",
    "\n",
    "    ax0.set_xlim([0,frame_a.shape[1]])\n",
    "    ax0.set_ylim([0,frame_a.shape[0]])\n",
    "    ax1.set_xlim([0,frame_a.shape[1]])\n",
    "    ax1.set_ylim([0,frame_a.shape[0]])\n",
    "    fig.tight_layout()\n",
    "\n",
    "    fig.savefig(outputPath + filename)\n",
    "    plt.clf()\n",
    "\n",
    "def extractVelocityProfile(imagePathA, imagePathB, outputPath, filePrefix , pivSettings, scaleFactor):\n",
    "\n",
    "\n",
    "        frame_a = img_as_int(openpiv.tools.imread(imagePathA)).astype(np.int32) # make picture from float64 to int16 (try to use int32 FIX!\n",
    "        frame_b = img_as_int(openpiv.tools.imread(imagePathB)).astype(np.int32)\n",
    "\n",
    "        # Plot bilder in Graustufen\n",
    "#         plt.matshow( frame_a, cmap=cm.Greys_r );\n",
    "#         plt.matshow( frame_b, cmap=cm.Greys_r );\n",
    "\n",
    "        u, v, sig2noise = openpiv.process.extended_search_area_piv(frame_a, \n",
    "                                                                   frame_b, \n",
    "                                                                   **pivSettings['extentedSearchAreaPivSettings'])\n",
    "        print(u,v)\n",
    "        x, y = openpiv.process.get_coordinates( image_size=frame_a.shape, \n",
    "                                                window_size=pivSettings['extentedSearchAreaPivSettings']['window_size'], \n",
    "                                                overlap=pivSettings['extentedSearchAreaPivSettings']['overlap'] )\n",
    "\n",
    "        u2 = u.copy();\n",
    "        v2 = v.copy();\n",
    "        u2, v2, mask = openpiv.validation.sig2noise_val( u2, v2, sig2noise, **pivSettings['sig2NoiseSettings'] )\n",
    "\n",
    "\n",
    "        u3 = u2.copy();\n",
    "        v3 = v2.copy();\n",
    "        u3, v3 = openpiv.filters.replace_outliers( u3, v3, **pivSettings['replaceOutlierSettings'] )\n",
    "        \n",
    "        \n",
    "        \n",
    "        x_meter, y_meter, u3_meter, v3_meter = openpiv.scaling.uniform(x, y, u3, v3, scaling_factor = scaleFactor )\n",
    "        \n",
    "        #saveResults(outputPath, filePrefix , frame_a, frame_b, x,y,u,v,u2,v2,u3,v3)"
   ]
  },
  {
   "cell_type": "code",
   "execution_count": 34,
   "metadata": {
    "collapsed": false
   },
   "outputs": [
    {
     "name": "stdout",
     "output_type": "stream",
     "text": [
      "[[-32.80258179 -33.18405151 -27.51159477 ...,   8.94165039  12.82501125\n",
      "    0.        ]\n",
      " [-27.21023369 -29.5600872  -24.27673149 ...,  11.13128567  11.30676174\n",
      "    0.        ]\n",
      " [-37.09411621 -38.13934326 -30.88378716 ...,   5.76782179   9.38415527\n",
      "    0.        ]\n",
      " ..., \n",
      " [ -3.44467139  -3.86428809  -7.29751539 ...,  -0.53787231  -1.88446033\n",
      "    0.        ]\n",
      " [-11.32202053 -12.27569485  -8.7928772  ...,   3.62396216   5.32531691\n",
      "    0.        ]\n",
      " [  0.           0.           0.         ...,   0.           0.           0.        ]] [[ 16.26586914  16.00265503  19.10018921 ...,   5.97000074   6.98089552\n",
      "    0.        ]\n",
      " [ 19.53887939  20.88928032  23.87237358 ...,  11.28768826  14.12963772\n",
      "    0.        ]\n",
      " [ 23.12469292  24.00588799  27.56500053 ...,   3.46755958   3.63159156\n",
      "    0.        ]\n",
      " ..., \n",
      " [-12.74108791 -16.19720459 -14.7094717  ...,  10.07842922   4.11224365\n",
      "    0.        ]\n",
      " [-12.29858303 -14.73998928 -15.47241116 ...,  14.91165066   7.20977736\n",
      "    0.        ]\n",
      " [  0.           0.           0.         ...,   0.           0.           0.        ]]\n"
     ]
    }
   ],
   "source": [
    "\n",
    "spacing = 8;\n",
    "pivSettings = {\n",
    "                    \"extentedSearchAreaPivSettings\" : \n",
    "                    {    \"window_size\" : 64, \n",
    "                        \"dt\" : 1e-3,\n",
    "                        \"search_area_size\" : 64,\n",
    "                        \"overlap\" : 64 - spacing,\n",
    "                        \"sig2noise_method\" : \"peak2peak\"}\n",
    "                    ,\n",
    "                    \"sig2NoiseSettings\" :\n",
    "                        {\"threshold\" : 0.5}\n",
    "                    ,\n",
    "                    \"replaceOutlierSettings\" : \n",
    "                    {\n",
    "                        \"method\" :'localmean',\n",
    "                        \"max_iter\" : 10, \n",
    "                        \"kernel_size\"  : 2\n",
    "                    }\n",
    "                  }\n",
    "\n",
    "for i in imagesRange:\n",
    "    extractVelocityProfile(images[i], images[i+1], \"./\", \"exp1_vel\" + str(i), pivSettings);\n"
   ]
  },
  {
   "cell_type": "code",
   "execution_count": null,
   "metadata": {
    "collapsed": true,
    "run_control": {
     "breakpoint": false
    }
   },
   "outputs": [],
   "source": []
  }
 ],
 "metadata": {
  "kernelspec": {
   "display_name": "Python 3",
   "language": "python",
   "name": "python3"
  },
  "language_info": {
   "codemirror_mode": {
    "name": "ipython",
    "version": 3
   },
   "file_extension": ".py",
   "mimetype": "text/x-python",
   "name": "python",
   "nbconvert_exporter": "python",
   "pygments_lexer": "ipython3",
   "version": "3.4.0"
  }
 },
 "nbformat": 4,
 "nbformat_minor": 0
}
