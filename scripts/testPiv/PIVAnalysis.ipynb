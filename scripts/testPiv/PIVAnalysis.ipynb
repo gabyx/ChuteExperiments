{
 "metadata": {
  "name": "",
  "signature": "sha256:5f98b7ca04d62331ef0fcfa773b48a82ada0bff779543d5acc059eb3694ff7ed"
 },
 "nbformat": 3,
 "nbformat_minor": 0,
 "worksheets": [
  {
   "cells": [
    {
     "cell_type": "code",
     "collapsed": false,
     "input": [
      "import sys,os\n",
      "\n",
      "import numpy as np\n",
      "import matplotlib as mpl\n",
      "import matplotlib.cm as cm\n",
      "import matplotlib.pyplot as plt\n",
      "import matplotlib.colors as colors\n",
      "import matplotlib.cm as cmx\n",
      "\n",
      "#this works apparently only for savefig stuff\n",
      "mpl.rcParams['figure.figsize']=(15,10)    #(6.0,4.0)\n",
      "mpl.rcParams['font.size']=10                #10 \n",
      "mpl.rcParams['savefig.dpi']=400             #72 \n",
      "mpl.rcParams['figure.subplot.bottom']=.1    #.125\n",
      "\n",
      "\n",
      "plt.rc('font', family='serif')\n",
      "plt.rc('text', usetex=True)\n",
      "\n",
      "#inline Shit\n",
      "%matplotlib inline\n",
      "%config InlineBackend.figure_format='svg'\n",
      "%config InlineBackend.rc = {'figure.facecolor': 'white', 'figure.subplot.bottom': 0.125, 'figure.edgecolor': 'white', 'savefig.dpi': 400, 'figure.figsize': (12.0, 8.0), 'font.size': 10}\n",
      "\n",
      "#GUi shit\n",
      "%matplotlib tk\n",
      "\n",
      "mpl.get_configdir()\n",
      "\n",
      "%load_ext autoreload\n",
      "%autoreload 2"
     ],
     "language": "python",
     "metadata": {},
     "outputs": [
      {
       "output_type": "stream",
       "stream": "stdout",
       "text": [
        "The autoreload extension is already loaded. To reload it, use:\n",
        "  %reload_ext autoreload\n"
       ]
      }
     ],
     "prompt_number": 176
    },
    {
     "cell_type": "code",
     "collapsed": false,
     "input": [
      "import openpiv.tools\n",
      "import openpiv.process\n",
      "import openpiv.scaling\n",
      "from skimage import img_as_int\n",
      "    \n",
      "deltaT=1e-3; # Framerate of the sequence\n",
      "\n",
      "frame_a  = img_as_int(openpiv.tools.imread('experiment1_0781.jpg')).astype(np.int32) # male picture from float64 to int16 (try to use int32 FIX!)\n",
      "frame_b  = img_as_int(openpiv.tools.imread('experiment1_0782.jpg')).astype(np.int32)"
     ],
     "language": "python",
     "metadata": {},
     "outputs": [],
     "prompt_number": 177
    },
    {
     "cell_type": "code",
     "collapsed": false,
     "input": [
      "plt.matshow( frame_a, cmap=cm.Greys_r );\n",
      "plt.matshow( frame_b, cmap=cm.Greys_r );"
     ],
     "language": "python",
     "metadata": {},
     "outputs": [],
     "prompt_number": 178
    },
    {
     "cell_type": "code",
     "collapsed": false,
     "input": [
      "window_size= 64;\n",
      "spacing = 8;\n",
      "overlap = window_size-spacing;\n",
      "\n",
      "\n",
      "u, v, sig2noise = openpiv.process.extended_search_area_piv(frame_a, \n",
      "                                                           frame_b, \n",
      "                                                           window_size=window_size, \n",
      "                                                           overlap=overlap, \n",
      "                                                           dt=deltaT, \n",
      "                                                           search_area_size=64, \n",
      "                                                           sig2noise_method='peak2peak')\n",
      "\n",
      "x, y = openpiv.process.get_coordinates( image_size=frame_a.shape, window_size=window_size, overlap=overlap )\n",
      "print(sig2noise)\n",
      "\n",
      "u2 = u.copy();\n",
      "v2 = v.copy();\n",
      "u2, v2, mask = openpiv.validation.sig2noise_val( u2, v2, sig2noise, threshold = 0.5)\n",
      "\n",
      "\n"
     ],
     "language": "python",
     "metadata": {},
     "outputs": [
      {
       "output_type": "stream",
       "stream": "stdout",
       "text": [
        "[[ 1.82731753  1.95708485  2.06395948 ...,  3.21266267  3.35435095  0.        ]\n",
        " [ 1.83495295  1.98662032  2.13006007 ...,  3.18386036  3.24186093  0.        ]\n",
        " [ 1.95295651  2.0767292   2.22603798 ...,  3.25042215  3.16943413  0.        ]\n",
        " ..., \n",
        " [ 2.30726743  2.41086969  2.35412656 ...,  3.35761704  3.28136079  0.        ]\n",
        " [ 2.39104789  2.42921505  2.43881485 ...,  3.09558212  3.18191636  0.        ]\n",
        " [ 0.          0.          0.         ...,  0.          0.          0.        ]]\n"
       ]
      }
     ],
     "prompt_number": 179
    },
    {
     "cell_type": "code",
     "collapsed": false,
     "input": [
      "u3 = u2.copy();\n",
      "v3 = v2.copy();\n",
      "u3, v3 = openpiv.filters.replace_outliers( u3, v3, method='localmean', max_iter=10, kernel_size=2 )"
     ],
     "language": "python",
     "metadata": {},
     "outputs": [],
     "prompt_number": 180
    },
    {
     "cell_type": "code",
     "collapsed": false,
     "input": [
      "plt.close(\"all\")\n",
      "\n",
      "fig = plt.figure(figsize=(15,10));\n",
      "\n",
      "\n",
      "ax0 = fig.add_subplot(131)\n",
      "ax0.set_autoscale_on(False)\n",
      "ax0.set_title(\"PIV Extended Search Area\" )\n",
      "\n",
      "\n",
      "ax0.matshow( frame_a, cmap=cm.Greys_r );\n",
      "ax0.quiver( x, y, u, v , color='r')\n",
      "\n",
      "ax1 = fig.add_subplot(132, sharex=ax0, sharey=ax0)\n",
      "ax1.set_autoscale_on(False)\n",
      "ax1.set_title(\"Outlier Rejected\" )\n",
      "\n",
      "ax1.matshow( frame_a, cmap=cm.Greys_r );\n",
      "ax1.quiver( x, y, u2, v2 , color='r')\n",
      "\n",
      "ax3 = fig.add_subplot(133, sharex=ax0, sharey=ax0)\n",
      "ax3.set_autoscale_on(False)\n",
      "ax3.set_title(\"Replaced Outlier\" )\n",
      "\n",
      "ax3.matshow( frame_a, cmap=cm.Greys_r );\n",
      "ax3.quiver( x, y, u3, v3 , color='r')\n",
      "\n",
      "\n",
      "ax0.set_xlim([0,frame_a.shape[1]])\n",
      "ax0.set_ylim([0,frame_a.shape[0]])\n",
      "ax1.set_xlim([0,frame_a.shape[1]])\n",
      "ax1.set_ylim([0,frame_a.shape[0]])\n",
      "fig.tight_layout()\n",
      "plt.show()"
     ],
     "language": "python",
     "metadata": {},
     "outputs": [],
     "prompt_number": 181
    },
    {
     "cell_type": "code",
     "collapsed": false,
     "input": [
      "window_size= 64;\n",
      "spacing = 8;\n",
      "overlap = window_size-spacing;\n",
      "\n",
      "u, v, sig2noise = openpiv.pyprocess.piv(frame_a, \n",
      "                                        frame_b, \n",
      "                                        window_size=window_size, \n",
      "                                        overlap=overlap, \n",
      "                                        dt=deltaT, \n",
      "                                        corr_method='fft',\n",
      "                                        sig2noise_method='peak2peak')\n",
      "\n",
      "x, y = openpiv.process.get_coordinates( image_size=frame_a.shape, window_size=window_size, overlap=overlap )\n",
      "\n",
      "u2 = u.copy();\n",
      "v2 = v.copy();\n",
      "u2, v2, mask = openpiv.validation.sig2noise_val( u2, v2, sig2noise, threshold = 1.0);"
     ],
     "language": "python",
     "metadata": {},
     "outputs": [],
     "prompt_number": 182
    },
    {
     "cell_type": "code",
     "collapsed": false,
     "input": [
      "\n",
      "fig = plt.figure(figsize=(15,10));\n",
      "\n",
      "\n",
      "ax0 = fig.add_subplot(121)\n",
      "ax0.set_autoscale_on(False)\n",
      "\n",
      "ax0.matshow( frame_a, cmap=cm.Greys_r );\n",
      "ax0.quiver( x, y, u, v , color='r')\n",
      "ax0.set_title(\"PIV Extended Search Area\" )\n",
      "\n",
      "ax1 = fig.add_subplot(122, sharex=ax0, sharey=ax0)\n",
      "ax1.set_autoscale_on(False)\n",
      "ax1.set_title(\"Outlier Rejected\" )\n",
      "ax1.matshow( frame_a, cmap=cm.Greys_r );\n",
      "ax1.quiver( x, y, u2, v2 , color='r')\n",
      "\n",
      "\n",
      "ax0.set_xlim([0,frame_a.shape[1]])\n",
      "ax0.set_ylim([0,frame_a.shape[0]])\n",
      "ax1.set_xlim([0,frame_a.shape[1]])\n",
      "ax1.set_ylim([0,frame_a.shape[0]])\n",
      "fig.tight_layout()\n",
      "plt.show()"
     ],
     "language": "python",
     "metadata": {},
     "outputs": [],
     "prompt_number": 183
    },
    {
     "cell_type": "code",
     "collapsed": false,
     "input": [],
     "language": "python",
     "metadata": {},
     "outputs": [],
     "prompt_number": 183
    }
   ],
   "metadata": {}
  }
 ]
}