{
 "cells": [
  {
   "cell_type": "code",
   "execution_count": 1,
   "metadata": {
    "collapsed": false
   },
   "outputs": [],
   "source": [
    "import sys,os\n",
    "import numpy as np\n",
    "import matplotlib as mpl\n",
    "import matplotlib.cm as cm\n",
    "import matplotlib.pyplot as plt\n",
    "import matplotlib.colors as colors\n",
    "import matplotlib.cm as cmx\n",
    "\n",
    "#this works apparently only for savefig stuff\n",
    "mpl.rcParams['figure.figsize']=(15,10)    #(6.0,4.0)\n",
    "mpl.rcParams['font.size']=10                #10 \n",
    "mpl.rcParams['savefig.dpi']=400             #72 \n",
    "mpl.rcParams['figure.subplot.bottom']=.1    #.125\n",
    "\n",
    "\n",
    "plt.rc('font', family='serif')\n",
    "plt.rc('text', usetex=False)\n",
    "\n",
    "#inline Shit\n",
    "#%matplotlib inline\n",
    "%config InlineBackend.figure_format='svg'\n",
    "%config InlineBackend.rc = {'figure.facecolor': 'white', 'figure.subplot.bottom': 0.125, 'figure.edgecolor': 'white', 'savefig.dpi': 400, 'figure.figsize': (12.0, 8.0), 'font.size': 10}\n",
    "\n",
    "#GUi shit\n",
    "%matplotlib tk\n",
    "\n",
    "mpl.get_configdir()\n",
    "\n",
    "%load_ext autoreload\n",
    "%autoreload 2"
   ]
  },
  {
   "cell_type": "code",
   "execution_count": 182,
   "metadata": {
    "collapsed": false
   },
   "outputs": [],
   "source": [
    "import openpiv.tools\n",
    "import openpiv.process\n",
    "import openpiv.scaling\n",
    "from skimage import img_as_int\n",
    "    \n",
    "deltaT=1e-3; # Framerate of the sequence\n",
    "\n",
    "# frame_a  = img_as_int(openpiv.tools.imread('../../data/experiment1/experiment1bright_0320.jpg')).astype(np.int32) # male picture from float64 to int16 (try to use int32 FIX!)\n",
    "# frame_b  = img_as_int(openpiv.tools.imread('../../data/experiment1/experiment1bright_0321.jpg')).astype(np.int32)\n",
    "# frame_a  = img_as_int(openpiv.tools.imread('experiment1_bright_0428.jpg')).astype(np.int32) # male picture from float64 to int16 (try to use int32 FIX!)\n",
    "# frame_b  = img_as_int(openpiv.tools.imread('experiment1_bright_0429.jpg')).astype(np.int32)\n",
    "frame_a  = img_as_int(openpiv.tools.imread('../../data/experiment1/exp1-0781.jpg')).astype(np.int32) # male picture from float64 to int16 (try to use int32 FIX!)\n",
    "frame_b  = img_as_int(openpiv.tools.imread('../../data/experiment1/exp1-0785.jpg')).astype(np.int32)\n"
   ]
  },
  {
   "cell_type": "code",
   "execution_count": 183,
   "metadata": {
    "collapsed": false
   },
   "outputs": [],
   "source": [
    "plt.matshow( frame_a, cmap=cm.Greys_r );\n",
    "plt.matshow( frame_b, cmap=cm.Greys_r );\n",
    "plt.show()"
   ]
  },
  {
   "cell_type": "code",
   "execution_count": 119,
   "metadata": {
    "collapsed": false,
    "run_control": {
     "breakpoint": false
    }
   },
   "outputs": [
    {
     "name": "stdout",
     "output_type": "stream",
     "text": [
      "[[ 2.96330386  1.57142442  1.59879225 ...,  1.96249615  2.02275199  0.        ]\n",
      " [ 2.42426133  2.23100401  1.57644244 ...,  2.38874075  2.56524625  0.        ]\n",
      " [ 3.39791066  1.71500149  1.28206169 ...,  2.39014759  2.25292531  0.        ]\n",
      " ..., \n",
      " [ 2.71744621  2.93759698  1.56484464 ...,  1.42762692  1.56492671  0.        ]\n",
      " [ 1.69851569  1.67956137  2.62563669 ...,  1.25335287  1.71118344  0.        ]\n",
      " [ 0.          0.          0.         ...,  0.          0.          0.        ]]\n"
     ]
    }
   ],
   "source": [
    "window_size= 16;\n",
    "spacing = 8;\n",
    "overlap = window_size-spacing;\n",
    "\n",
    "\n",
    "u, v, sig2noise = openpiv.process.extended_search_area_piv(frame_a,\n",
    "                                                           frame_b, \n",
    "                                                           window_size=window_size, \n",
    "                                                           overlap=overlap, \n",
    "                                                           dt=deltaT, \n",
    "                                                           search_area_size=16, \n",
    "                                                           sig2noise_method='peak2peak')\n",
    "print(sig2noise)\n",
    "x, y = openpiv.process.get_coordinates( image_size=frame_a.shape, window_size=window_size, overlap=overlap )"
   ]
  },
  {
   "cell_type": "code",
   "execution_count": 120,
   "metadata": {
    "collapsed": false
   },
   "outputs": [],
   "source": [
    "u2 = u.copy();\n",
    "v2 = v.copy();\n",
    "u2, v2, mask = openpiv.validation.sig2noise_val( u2, v2, sig2noise, threshold = 3);"
   ]
  },
  {
   "cell_type": "code",
   "execution_count": 121,
   "metadata": {
    "collapsed": false
   },
   "outputs": [
    {
     "name": "stdout",
     "output_type": "stream",
     "text": [
      "1.08023989218\n"
     ]
    }
   ],
   "source": [
    "u3 = u2.copy();\n",
    "v3 = v2.copy();\n",
    "u3, v3 = openpiv.filters.replace_outliers( u3, v3, method='localmean', max_iter=10, kernel_size=2 )\n",
    "\n",
    "scaleFactor = 967.5931;\n",
    "x_meter, y_meter, u3_meter, v3_meter = openpiv.scaling.uniform(x, y, u3, v3, scaling_factor = scaleFactor )\n",
    "\n",
    "print(np.max(v3_meter))\n"
   ]
  },
  {
   "cell_type": "code",
   "execution_count": 122,
   "metadata": {
    "collapsed": false
   },
   "outputs": [],
   "source": [
    "plt.close(\"all\")\n",
    "\n",
    "fig = plt.figure(figsize=(15,10));\n",
    "\n",
    "\n",
    "ax0 = fig.add_subplot(131)\n",
    "ax0.set_autoscale_on(False)\n",
    "ax0.set_title(\"PIV Extended Search Area\" )\n",
    "\n",
    "quiveropts = {'scale_units' : 'inches', 'scale' : 4}\n",
    "\n",
    "ax0.matshow( frame_a, cmap=cm.Greys_r );\n",
    "ax0.quiver( x, y, u, v , color='r')\n",
    "\n",
    "ax1 = fig.add_subplot(132, sharex=ax0, sharey=ax0)\n",
    "ax1.set_autoscale_on(False)\n",
    "ax1.set_title(\"Outlier Rejected\" )\n",
    "\n",
    "ax1.matshow( frame_a, cmap=cm.Greys_r );\n",
    "ax1.quiver( x, y, u2, v2 , color='r')\n",
    "\n",
    "ax3 = fig.add_subplot(133, sharex=ax0, sharey=ax0)\n",
    "ax3.set_autoscale_on(False)\n",
    "ax3.set_title(\"Replaced Outlier\" )\n",
    "\n",
    "ax3.matshow( frame_a, cmap=cm.Greys_r );\n",
    "ax3.quiver( x, y, u3_meter, v3_meter , color='r', **quiveropts)\n",
    "\n",
    "\n",
    "ax0.set_xlim([0,frame_a.shape[1]])\n",
    "ax0.set_ylim([0,frame_a.shape[0]])\n",
    "ax1.set_xlim([0,frame_a.shape[1]])\n",
    "ax1.set_ylim([0,frame_a.shape[0]])\n",
    "fig.tight_layout()\n",
    "plt.show()\n",
    "\n",
    "fig = plt.figure(figsize=(15,10));\n",
    "ax0 = fig.add_subplot(111)\n",
    "p = ax0.imshow( sig2noise, cmap=cm.coolwarm);\n",
    "cbar = fig.colorbar(p)"
   ]
  },
  {
   "cell_type": "code",
   "execution_count": 186,
   "metadata": {
    "collapsed": false
   },
   "outputs": [],
   "source": [
    "window_size= 32;\n",
    "spacing = 8;\n",
    "overlap = window_size-spacing;\n",
    "deltaT = 1.0\n",
    "u, v, sig2noise = openpiv.pyprocess.piv(frame_a, \n",
    "                                        frame_b, \n",
    "                                        window_size=window_size, \n",
    "                                        overlap=overlap, \n",
    "                                        dt=deltaT, \n",
    "                                        corr_method='fft',\n",
    "                                        sig2noise_method='peak2peak')\n",
    "\n",
    "x, y = openpiv.process.get_coordinates( image_size=frame_a.shape, window_size=window_size, overlap=overlap )\n",
    "\n",
    "u2 = u.copy();\n",
    "v2 = v.copy();\n",
    "u2, v2, mask = openpiv.validation.sig2noise_val( u2, v2, sig2noise, threshold = 1.05);"
   ]
  },
  {
   "cell_type": "code",
   "execution_count": 187,
   "metadata": {
    "collapsed": false
   },
   "outputs": [],
   "source": [
    "\n",
    "fig = plt.figure(figsize=(15,10));\n",
    "\n",
    "opts = {\"units\":'dots', \"angles\":'xy', \"scale_units\":'xy', \"scale\":1.0};\n",
    "\n",
    "ax0 = fig.add_subplot(121)\n",
    "ax0.set_autoscale_on(False)\n",
    "\n",
    "ax0.matshow( frame_a, cmap=cm.Greys_r );\n",
    "ax0.quiver( x, y, u, v , color='r',**opts)\n",
    "ax0.set_title(\"PIV Extended Search Area\" )\n",
    "\n",
    "ax1 = fig.add_subplot(122, sharex=ax0, sharey=ax0)\n",
    "ax1.set_autoscale_on(False)\n",
    "ax1.set_title(\"Outlier Rejected\" )\n",
    "ax1.matshow( frame_b, cmap=cm.Greys_r );\n",
    "ax1.quiver( x, y, u2, v2 , color='r', **opts)\n",
    "\n",
    "\n",
    "ax0.set_xlim([0,frame_a.shape[1]])\n",
    "ax0.set_ylim([0,frame_a.shape[0]])\n",
    "ax1.set_xlim([0,frame_a.shape[1]])\n",
    "ax1.set_ylim([0,frame_a.shape[0]])\n",
    "fig.tight_layout()\n",
    "plt.show()"
   ]
  },
  {
   "cell_type": "code",
   "execution_count": null,
   "metadata": {
    "collapsed": false
   },
   "outputs": [],
   "source": []
  },
  {
   "cell_type": "code",
   "execution_count": null,
   "metadata": {
    "collapsed": true
   },
   "outputs": [],
   "source": []
  }
 ],
 "metadata": {
  "kernelspec": {
   "display_name": "Python 3",
   "language": "python",
   "name": "python3"
  },
  "language_info": {
   "codemirror_mode": {
    "name": "ipython",
    "version": 3
   },
   "file_extension": ".py",
   "mimetype": "text/x-python",
   "name": "python",
   "nbconvert_exporter": "python",
   "pygments_lexer": "ipython3",
   "version": "3.4.0"
  }
 },
 "nbformat": 4,
 "nbformat_minor": 0
}
